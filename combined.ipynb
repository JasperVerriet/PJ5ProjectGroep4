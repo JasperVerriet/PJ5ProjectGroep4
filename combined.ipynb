{
 "cells": [
  {
   "cell_type": "code",
   "execution_count": 56,
   "id": "070abda5",
   "metadata": {},
   "outputs": [],
   "source": [
    "import pandas as pd\n",
    "import numpy as np\n",
    "\n",
    "# Here is the function that loads the Excel file and returns the DataFrame\n",
    "def Data_Collection():\n",
    "    file_path = input(\"Put your Excel file in here:\")\n",
    "    df = pd.read_excel(file_path, engine='openpyxl')\n",
    "    return df\n",
    "\n",
    "# Here is the function that reports missing data in the DataFrame\n",
    "def report_missing_data(df):\n",
    "    copy = df.copy()\n",
    "    copy = copy.drop(\"line\", axis=1)\n",
    "    missing_data = copy.isnull()\n",
    "      \n",
    "    for i in range(len(copy)):\n",
    "        if missing_data.iloc[i,:].any():\n",
    "            print(f'missing data in row {i+2}')\n",
    "\n",
    "    return missing_data"
   ]
  },
  {
   "cell_type": "code",
   "execution_count": 28,
   "id": "65b2b000",
   "metadata": {},
   "outputs": [
    {
     "name": "stdout",
     "output_type": "stream",
     "text": [
      "There are no overlaps in the current planning.\n"
     ]
    }
   ],
   "source": [
    "def Overlap_Checker(df):\n",
    "    \"\"\"\n",
    "    Checks if the in the current busplan if there are overlapping trips for each bus. \n",
    "    :param df: The given dataframe\n",
    "    \"\"\"\n",
    "\n",
    "    def check_overlaps(group):\n",
    "        \"\"\"\n",
    "        Function to check overlapping time in trips for a single bus. \n",
    "        :param group: Group of trips for a single bus\n",
    "        :return: List of overlapping trips (with row numbers)\n",
    "        \"\"\"\n",
    "        overlaps = []\n",
    "        # .groupby resets the index, this prevents the reset of the original index when sorting by bus later in the code.\n",
    "        group = group.reset_index(drop=False)\n",
    "        \n",
    "        for i in range(len(group)):\n",
    "            for j in range(i + 1, len(group)):\n",
    "                # It is an overlap if the end time of a trip is after the start time of a trip after the first.     \n",
    "                # Start time of a trip should be before the end of a trip after the first, so that there is no overlap with midnight trips.\n",
    "                if (group.loc[i, 'start time'] < group.loc[j, 'end time'] and\n",
    "                    group.loc[j, 'start time'] < group.loc[i, 'end time']):\n",
    "                    #appends in a in a tuple, so that there is a list with tuples of the data of the overlapping trips.\n",
    "                    overlaps.append((\n",
    "                        group.loc[i, 'index'], \n",
    "                        group.loc[j, 'index'], \n",
    "                        group.loc[i, 'start location'], group.loc[i, 'end location'], \n",
    "                        group.loc[i, 'start time'], group.loc[i, 'end time'],\n",
    "                        group.loc[j, 'start location'], group.loc[j, 'end location'], \n",
    "                        group.loc[j, 'start time'], group.loc[j, 'end time'],\n",
    "                    ))\n",
    "        return overlaps\n",
    "\n",
    "    # Group by bus and run the check_overlaps function. \n",
    "    overlap_results = []\n",
    "    grouped = df.groupby('bus')\n",
    "    # For each bus, repeats the amount that the group is long.\n",
    "    for bus, group in grouped:\n",
    "        overlaps = check_overlaps(group)\n",
    "        for o in overlaps:\n",
    "            # At the start of each tuple, append the number of the bus of that group.\n",
    "            # So that later when printing the results, it is possible to state wich bus has overlap.\n",
    "            overlap_results.append((bus, *o))\n",
    "\n",
    "\n",
    "\n",
    "    for o in overlap_results:\n",
    "        # For each tuple in overlap_results, the first character is the bus number.\n",
    "        bus = o[0]\n",
    "        print(f\"Bus {bus} has overlap:\")\n",
    "        print(f\"  row {o[1]}: {o[3]} -> {o[4]} ({o[5]} - {o[6]})\")\n",
    "        print(f\"  row {o[2]}: {o[7]} -> {o[8]} ({o[9]} - {o[10]})\")\n",
    "\n",
    "    if len(overlap_results) == 0:\n",
    "        print('There are no overlaps in the current planning.') \n",
    "\n",
    "Overlap_Checker(df)\n"
   ]
  },
  {
   "cell_type": "code",
   "execution_count": 14,
   "id": "cd55cde0",
   "metadata": {},
   "outputs": [],
   "source": [
    "def Energy_Checker():   \n",
    "    soh = 255  # kWh\n",
    "    min_battery_level = 0.10 * soh  # 25.5 kWh\n",
    "    max_battery_level = 0.90 * soh   # 239.5 kWh\n",
    "    total_energy_used = 0\n",
    "\n",
    "    group_bus = df.groupby('bus')\n",
    "\n",
    "    for bus_id, bus_routes in group_bus:\n",
    "        total_energy_used_on_route = 0\n",
    "        current_battery_level = max_battery_level\n",
    "        feasible = True\n",
    "\n",
    "        for route_index, route in bus_routes.iterrows():\n",
    "            energy_consumption = route[\"energy consumption\"]\n",
    "\n",
    "            if energy_consumption > 0:\n",
    "                total_energy_used_on_route += energy_consumption\n",
    "\n",
    "            current_battery_level -= energy_consumption\n",
    "\n",
    "            if current_battery_level < min_battery_level:\n",
    "                print(f\"Bus {bus_id}: Battery level below 10%, Route is infeasible.\")\n",
    "                print(f\"Bus plan infeasible after busroute {route_index + 1} with battery level: {current_battery_level:.2f} kWh\")\n",
    "                feasible = False\n",
    "                break\n",
    "        \n",
    "        total_energy_used = total_energy_used + total_energy_used_on_route\n",
    "\n",
    "\n",
    "        if feasible:\n",
    "            print(f\"\\nBus plan for Bus {bus_id} is feasible. Amount of energy used: {total_energy_used_on_route:.2f} kWh\")\n",
    "\n",
    "\n",
    "\n",
    "    print(f\"Total Energy Used on Bus Plan is: {total_energy_used}\")"
   ]
  },
  {
   "cell_type": "code",
   "execution_count": 59,
   "id": "66c59894",
   "metadata": {},
   "outputs": [
    {
     "name": "stdout",
     "output_type": "stream",
     "text": [
      "There are no overlaps in the current planning.\n",
      "Bus 1: Battery level below 10%, Route is infeasible.\n",
      "Bus plan infeasible after busroute 23 with battery level: 19.26 kWh\n",
      "Total Energy Used on Bus Plan is: 210.23680000000002\n"
     ]
    }
   ],
   "source": [
    "def main():\n",
    "    df = Data_Collection()\n",
    "    report_missing_data(df)\n",
    "    \n",
    "    Overlap_Checker(df)    \n",
    "    \n",
    "    Energy_Checker()\n",
    "    \n",
    "\n",
    "if __name__ == \"__main__\":\n",
    "    main()"
   ]
  }
 ],
 "metadata": {
  "kernelspec": {
   "display_name": "base",
   "language": "python",
   "name": "python3"
  },
  "language_info": {
   "codemirror_mode": {
    "name": "ipython",
    "version": 3
   },
   "file_extension": ".py",
   "mimetype": "text/x-python",
   "name": "python",
   "nbconvert_exporter": "python",
   "pygments_lexer": "ipython3",
   "version": "3.12.4"
  }
 },
 "nbformat": 4,
 "nbformat_minor": 5
}
