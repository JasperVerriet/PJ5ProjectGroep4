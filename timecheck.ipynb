{
 "cells": [
  {
   "cell_type": "code",
   "execution_count": null,
   "id": "39153df4",
   "metadata": {},
   "outputs": [
    {
     "name": "stdout",
     "output_type": "stream",
     "text": [
      "Bus 1 has overlap:\n",
      "  row 8: ehvbst -> ehvbst (07:21:00 - 08:31:00)\n",
      "  row 9: ehvbst -> ehvapt (07:21:00 - 07:45:00)\n",
      "Bus 1 has overlap:\n",
      "  row 8: ehvbst -> ehvbst (07:21:00 - 08:31:00)\n",
      "  row 10: ehvapt -> ehvapt (07:45:00 - 07:46:00)\n",
      "Bus 1 has overlap:\n",
      "  row 8: ehvbst -> ehvbst (07:21:00 - 08:31:00)\n",
      "  row 11: ehvapt -> ehvbst (07:46:00 - 08:11:00)\n",
      "Bus 1 has overlap:\n",
      "  row 8: ehvbst -> ehvbst (07:21:00 - 08:31:00)\n",
      "  row 12: ehvbst -> ehvapt (08:11:00 - 08:31:00)\n"
     ]
    }
   ],
   "source": [
    "import pandas as pd\n",
    "\n",
    "data = pd.read_excel(\"Test_Plan.xlsx\")\n",
    "df = pd.DataFrame(data)\n",
    "\n",
    "def Overlap_Checker(df):\n",
    "    \"\"\"\n",
    "    Checks if the in the current busplan if there are overlapping trips for each bus. \n",
    "    :param df: The given dataframe\n",
    "    \"\"\"\n",
    "\n",
    "    def check_overlaps(group):\n",
    "        \"\"\"\n",
    "        Function to check overlapping time in trips for a single bus. \n",
    "        :param group: Group of trips for a single bus\n",
    "        :return: List of overlapping trips (with row numbers)\n",
    "        \"\"\"\n",
    "        overlaps = []\n",
    "        # .groupby resets the index, this prevents the reset of the original index when sorting by bus later in the code.\n",
    "        group = group.reset_index(drop=False)\n",
    "        \n",
    "        for i in range(len(group)):\n",
    "            for j in range(i + 1, len(group)):\n",
    "                # It is an overlap if the end time of a trip is after the start time of a trip after the first.     \n",
    "                # Start time of a trip should be before the end of a trip after the first, so that there is no overlap with midnight trips.\n",
    "                if (group.loc[i, 'start time'] < group.loc[j, 'end time'] and\n",
    "                    group.loc[j, 'start time'] < group.loc[i, 'end time']):\n",
    "                    #appends in a in a tuple, so that there is a list with tuples of the data of the overlapping trips.\n",
    "                    overlaps.append((\n",
    "                        group.loc[i, 'index'], \n",
    "                        group.loc[j, 'index'], \n",
    "                        group.loc[i, 'start location'], group.loc[i, 'end location'], \n",
    "                        group.loc[i, 'start time'], group.loc[i, 'end time'],\n",
    "                        group.loc[j, 'start location'], group.loc[j, 'end location'], \n",
    "                        group.loc[j, 'start time'], group.loc[j, 'end time'],\n",
    "                    ))\n",
    "        return overlaps\n",
    "\n",
    "    # Group by bus and run the check_overlaps function. \n",
    "    overlap_results = []\n",
    "    grouped = df.groupby('bus')\n",
    "    # For each bus, repeats the amount that the group is long.\n",
    "    for bus, group in grouped:\n",
    "        overlaps = check_overlaps(group)\n",
    "        for o in overlaps:\n",
    "            # At the start of each tuple, append the number of the bus of that group.\n",
    "            # So that later when printing the results, it is possible to state wich bus has overlap.\n",
    "            overlap_results.append((bus, *o))\n",
    "\n",
    "\n",
    "\n",
    "    for o in overlap_results:\n",
    "        # For each tuple in overlap_results, the first character is the bus number.\n",
    "        bus = o[0]\n",
    "        print(f\"Bus {bus} has overlap:\")\n",
    "        print(f\"  row {o[1]}: {o[3]} -> {o[4]} ({o[5]} - {o[6]})\")\n",
    "        print(f\"  row {o[2]}: {o[7]} -> {o[8]} ({o[9]} - {o[10]})\")\n",
    "\n",
    "Overlap_Checker(df)\n"
   ]
  }
 ],
 "metadata": {
  "kernelspec": {
   "display_name": "base",
   "language": "python",
   "name": "python3"
  },
  "language_info": {
   "codemirror_mode": {
    "name": "ipython",
    "version": 3
   },
   "file_extension": ".py",
   "mimetype": "text/x-python",
   "name": "python",
   "nbconvert_exporter": "python",
   "pygments_lexer": "ipython3",
   "version": "3.12.4"
  }
 },
 "nbformat": 4,
 "nbformat_minor": 5
}
